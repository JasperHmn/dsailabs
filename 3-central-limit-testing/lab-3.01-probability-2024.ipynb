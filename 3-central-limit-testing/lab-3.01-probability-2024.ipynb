{
  "cells": [
    {
      "cell_type": "markdown",
      "metadata": {
        "id": "M179_lET0jSn"
      },
      "source": [
        "# lab-3.01-probability\n"
      ]
    },
    {
      "cell_type": "code",
      "execution_count": 1,
      "metadata": {
        "id": "Lf3JZqC50jSq"
      },
      "outputs": [
        {
          "name": "stderr",
          "output_type": "stream",
          "text": [
            "C:\\Users\\32468\\AppData\\Local\\Temp\\ipykernel_86268\\48876594.py:5: DeprecationWarning: \n",
            "Pyarrow will become a required dependency of pandas in the next major release of pandas (pandas 3.0),\n",
            "(to allow more performant data types, such as the Arrow string type, and better interoperability with other libraries)\n",
            "but was not found to be installed on your system.\n",
            "If this would cause problems for you,\n",
            "please provide us feedback at https://github.com/pandas-dev/pandas/issues/54466\n",
            "        \n",
            "  import pandas as pd                                 # Data Frame\n"
          ]
        }
      ],
      "source": [
        "# Importing the necessary packages\n",
        "import numpy as np                                  # \"Scientific computing\"\n",
        "import scipy.stats as stats                         # Statistical tests\n",
        "\n",
        "import pandas as pd                                 # Data Frame\n",
        "from pandas.api.types import CategoricalDtype\n",
        "\n",
        "import matplotlib.pyplot as plt                     # Basic visualisation\n",
        "from statsmodels.graphics.mosaicplot import mosaic  # Mosaic diagram\n",
        "import seaborn as sns                               # Advanced data visualisation"
      ]
    },
    {
      "cell_type": "markdown",
      "metadata": {
        "id": "O4h_VInfnuCf"
      },
      "source": [
        "## Exercise 1 - Reliability of backups\n",
        "\n",
        "A hard drive has a 1% probability to crash. Therefore, we take two backups, each having a 2% probability to crash. The three components work independently of each other. Data is lost only when all three components crash.\n",
        "\n",
        "Question: what is the probability that the data is not lost?"
      ]
    },
    {
      "cell_type": "code",
      "execution_count": null,
      "metadata": {},
      "outputs": [],
      "source": [
        "# kans dat de 3 crashen = 0.01 * 0.02 * 0.02\n",
        "# kans dat de data niet verloren gaat = 1 - 0.01 * 0.02 * 0.02 "
      ]
    },
    {
      "cell_type": "markdown",
      "metadata": {
        "id": "d9Z3TRzVqRT7"
      },
      "source": [
        "### Exercise 2\n",
        "\n",
        "_X_ is the number of broken eggs in a random carton of 12 eggs. The probability distribution of _X_ is as follows  \n",
        "\n",
        "| | | | | | |\n",
        "| :--- | :--- | :--- | :--- | :--- | :--- |\n",
        "| _X_ | 0 | 1 | 2 | 3 | 4 |\n",
        "| _P(X)_ | 0.65 | 0.20 | 0.10 | 0.04 | ? |\n",
        "\n",
        "1. Only 0, 1, 2, 3 and 4 have probabilities > 0. What is the value for _P(4)_?\n",
        "2. What is the probability that a carton of 12 eggs has a maximum of 2 broken eggs?\n",
        "3. What is the probability that a carton of 12 eggs has at least 9 unbroken eggs?\n",
        "4. What is the probability that a carton of 12 eggs has exactly 9 unbroken eggs?\n",
        "5. A palette of 800 cartons of 12 eggs will have approximately how many broken eggs?\n",
        "\n"
      ]
    },
    {
      "cell_type": "code",
      "execution_count": null,
      "metadata": {},
      "outputs": [],
      "source": [
        "# .1\n",
        "# 1 - (0.65 + 0.20 + 0.10 + 0.04) = 0.01\n",
        "# .2\n",
        "# P(0) + P(1) + P(2) = 0.65 + 0.2 + 0.1 = 0.95\n",
        "# .3\n",
        "# P(0) + P(1) +P(2) + P(3) = 0.65 + 0.2 + 0.1 + 0.04 = 0.99\n",
        "# .4\n",
        "# P(3) = 0.04\n",
        "# .5\n",
        "# verwachtingswaarde = 0 * 0.65 + 1 * 0.20 + 2 * 0.1 + 3 * 0.04 * 4 * 0.01 = 0.264\n",
        "# op palet van 800 = 800 * verwachtingswaarde\n"
      ]
    },
    {
      "cell_type": "code",
      "execution_count": 8,
      "metadata": {},
      "outputs": [
        {
          "data": {
            "text/plain": [
              "211.20000000000002"
            ]
          },
          "execution_count": 8,
          "metadata": {},
          "output_type": "execute_result"
        }
      ],
      "source": [
        "800 * 0.264"
      ]
    },
    {
      "cell_type": "markdown",
      "metadata": {
        "id": "PkTqzeAGGE0e"
      },
      "source": [
        "### Exercise 3\n",
        "\n",
        "There are two traffic lights on the route a given individual takes to go from his home to work.  \n",
        "E = the event that the individual has to stop at the first light  \n",
        "F = the event that the individual has to stop at the second light\n",
        "\n",
        "$P(E)$ = 0.4  \n",
        "$P(F)$ = 0.3  \n",
        "$P(E ∩ F)$ = 0.15  \n",
        "\n",
        "1. Are E and F independent events? Briefly explain why or why not?\n",
        "2. What is the probability that the individual has to stop at at least one of the lights?\n",
        "3. What is the probability that the individual should stop at neither light?\n",
        "4. What is the probability that the individual has to stop at least at the first light?\n",
        "5. What is the probability that the individual has to stop at exactly one of the lights?\n",
        "6. What is the probability that the individual has to stop at only the first light?\n"
      ]
    },
    {
      "cell_type": "code",
      "execution_count": null,
      "metadata": {},
      "outputs": [],
      "source": [
        "# .1\n",
        "# P(E∩F)=P(E)P(F)   => indepent events\n",
        "# => 0.15 != 0.4 * 0.3\n",
        "# => E en F zijn dependent events\n",
        "# .2\n",
        "# P(E) + P(F) - P(E∩F) = 0.4 + 0.3 - 0.15 \n",
        "# => 0.55\n",
        "# .3\n",
        "# complement rule: 1 - P(A)\n",
        "# => 1 - 0.55 = 0.45\n",
        "# .4\n",
        "# P(E) = 0.4\n",
        "# .5\n",
        "# P(E U F) - P(E∩F) + 0.55 - 0.15 = 0.4\n",
        "# .6\n",
        "# P(E) - P(E∩F) = 0.4 - 0.15 = 0.25\n",
        "# P(E U F) - P(F) = 0.55 - 0.3 = 0.25"
      ]
    },
    {
      "cell_type": "markdown",
      "metadata": {
        "id": "l29LdxrEsw5f"
      },
      "source": [
        "## Exercise 4\n",
        "\n",
        "A box contains five pieces of paper marked €1, €1, €1, €10 and €25.  \n",
        "A player chooses two pieces of paper and then wins the larger of the amounts on the two pieces of paper.  \n",
        "Define a discrete random variable _X_ with _X_ = amount won.  \n",
        "1. Determine the discrete probability distribution of this game\n",
        "- $P(X = 1) = ?$\n",
        "- $P(X = 10) = ?$\n",
        "- $P(X = 25) = ?$\n",
        "2. In *Prob_X* below, replace [0.1, 0.3, 0.5] with the values found for a graphical representation of the discrete probability distribution.  \n",
        "3. Calculate the expectation value (expectation) of the random variable _X_.  \n",
        "\n",
        "\n",
        "(Hint: consider the pieces of paper as numbered 1, 2, 3, 4 and 5.)\n"
      ]
    },
    {
      "cell_type": "code",
      "execution_count": null,
      "metadata": {
        "id": "WGQVU9sAqQ0x"
      },
      "outputs": [],
      "source": [
        "X = [1, 10, 25]           # Possible outcomes. Leave unchanged!!!\n",
        "Prob_X = [0.1, 0.3, 0.5]  # Replace with your own found values!!!\n",
        "sns.barplot(x = X, y = Prob_X) # Visual representation. Leave unchanged!!!"
      ]
    },
    {
      "cell_type": "code",
      "execution_count": null,
      "metadata": {},
      "outputs": [],
      "source": [
        "# P(X=25) = P(eerste keer 25 EUR)*P(om het even wat) + P(eerste keer geen 25 EUR) * P(tweede keer 25 EUR)\n",
        "# => 1/5 * 1 + (4/5) * (1/4) = 2/5\n",
        "\n",
        "# P(X=10) = P(eerste keer 10 EUR)*P(om het even wat) + P(eerste keer geen 10 EUR) * P(tweede keer 10 EUR) \n",
        "# - (P(eerste keer 10) * P(tweede keer 25) + P(eerste keer 25) * P(eerste keer 10))\n",
        "# => 2/5 - ((1/5*1/4) + (1/5*1/4)) = 2/5 - 2/20 = 4/10 - 1/10 = 3/10 \n",
        "\n",
        "# (makkelijkere mogelijkheid voor P(10))\n",
        "# P(X=10) = (kans op 10 * kans op 1) + (kans op 1 * kans op 10)\n",
        "# => 1/5 * 3/4 + 3/5 * 1/4 = 3/10\n",
        "\n",
        "# (complement rule)\n",
        "# P(X=1) = 1 - 2/5 - 3/10 = 3/10"
      ]
    },
    {
      "cell_type": "code",
      "execution_count": 7,
      "metadata": {},
      "outputs": [
        {
          "data": {
            "text/plain": [
              "0.4"
            ]
          },
          "execution_count": 7,
          "metadata": {},
          "output_type": "execute_result"
        }
      ],
      "source": [
        "1/5 * 1 + (4/5) * (1/4)"
      ]
    },
    {
      "cell_type": "markdown",
      "metadata": {
        "id": "8RjNX1JhcF1_"
      },
      "source": [
        "### Exercise 5\n",
        "John participates in an online game of chance. He can win EUR 1, EUR 2, EUR 3, EUR 4 or EUR 5. The probability of winning X EUR is directly proportional to the amount to be won, in other words  \n",
        "$p(x) = k * x $ for x = 1, ... , 5\n",
        "1. What is the value for k?\n",
        "2. What is the probability of winning a maximum of EUR 3?\n",
        "3. Suppose Jan participates in the game of chance 100 times. Approximately how much will he then win?"
      ]
    },
    {
      "cell_type": "code",
      "execution_count": null,
      "metadata": {
        "id": "00fR6HMh6bT9"
      },
      "outputs": [],
      "source": [
        "# .1\n",
        "\n",
        "# 1 * k + 2 * k + 3 * k + 4 * k + 5 * k = 1\n",
        "# (1+2+3+4+5)*k = 1\n",
        "# 15*k = 1\n",
        "# k = 1 / 15\n",
        "\n",
        "# 1     2     3     4     5\n",
        "# 1/15  2/15  3/15  4/15  5/15\n",
        "\n",
        "# .2\n",
        "# 1/15 + 2/15 + 3/15 = 6/15 = 2/5 = 0.4\n",
        "\n",
        "# .3\n",
        "# (1*1/15 + 2*2/15 + 3*3/15 + 4*4/15 + 5*5/15)*100 = (55/15) *100\n",
        "# => 366,67"
      ]
    },
    {
      "cell_type": "code",
      "execution_count": 5,
      "metadata": {},
      "outputs": [
        {
          "data": {
            "text/plain": [
              "366.6666666666667"
            ]
          },
          "execution_count": 5,
          "metadata": {},
          "output_type": "execute_result"
        }
      ],
      "source": [
        "(1*1/15 + 2*2/15 + 3*3/15 + 4*4/15 + 5*5/15)*100"
      ]
    },
    {
      "cell_type": "markdown",
      "metadata": {
        "id": "v1LnB5XV6Qgw"
      },
      "source": [
        "### Exercise 6 - Probabilities for normal distributions\n",
        "\n",
        "Calculate the given probabilities in the standard normal distribution $Z \\sim Nor(\\mu=0, \\sigma=1)$. Compare your solutions with the given answers.\n",
        "\n",
        "|     | Calculate the following probabilities:             | Answer: |\n",
        "| :-- | :--------------------- | :------ |\n",
        "| 1.  | $P(Z < 1.33)$          | 0.908   |\n",
        "| 2.  | $P(Z > 1.33)$          | 0.092   |\n",
        "| 3.  | $P(Z < −1.33)$         | 0.092   |\n",
        "| 4.  | $P(Z > −1.33)$         | 0.908   |\n",
        "| 5.  | $P(Z < 0.45)$          | 0.674   |\n",
        "| 6.  | $P(Z > −1.05)$         | 0.853   |\n",
        "| 7.  | $P(Z < 0.65)$          | 0.742   |\n",
        "| 8.  | $P(−0.45 < Z < 1.20)$  | 0.559   |\n",
        "| 9.  | $P(−1.35 < Z < −0.10)$ | 0.372   |\n",
        "| 10. | $P(−2.10 < Z < −0.90)$ | 0.166   |"
      ]
    },
    {
      "cell_type": "code",
      "execution_count": null,
      "metadata": {
        "id": "Kp8rYHlq6HxS"
      },
      "outputs": [],
      "source": [
        "m = 0\n",
        "s = 1\n",
        "\n"
      ]
    },
    {
      "cell_type": "markdown",
      "metadata": {
        "id": "2HWolorG7O_w"
      },
      "source": [
        "### Exercise 7 - Plot probability density\n",
        "Make a graphical plot of the probability density function and the cumulative distribution function of a normal distribution with $\\mu = 2.5$ and $\\sigma = 1.5$.\n",
        "\n",
        "What is the area under the density function between  x=0.5  and  x=4 . (Answer = 0.750)\n",
        "\n",
        "![image.png](data:image/png;base64,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)"
      ]
    },
    {
      "cell_type": "code",
      "execution_count": 9,
      "metadata": {
        "id": "YGX5c67rb-kq"
      },
      "outputs": [
        {
          "data": {
            "text/plain": [
              "[<matplotlib.lines.Line2D at 0x20775f9da50>]"
            ]
          },
          "execution_count": 9,
          "metadata": {},
          "output_type": "execute_result"
        },
        {
          "data": {
            "image/png": "[encoded data removed]",
            "text/plain": [
              "<Figure size 640x480 with 1 Axes>"
            ]
          },
          "metadata": {},
          "output_type": "display_data"
        }
      ],
      "source": [
        "mu = 2.5    # Mean score History\n",
        "sigma = 1.5  # Standard deviation History\n",
        "x = np.linspace(mu - 4 * sigma, mu + 4 * sigma, num=201)\n",
        "y = stats.norm.pdf(x, mu, sigma)\n",
        "plt.plot(x, y)\n",
        "plt.title(\"Standard Normal Distribution\")\n",
        "z = stats.norm.cdf(x, mu, sigma)\n",
        "plt.plot(x,z)\n",
        "a = stats.norm.sf(x,mu,sigma)\n",
        "plt.plot(x,a)\n"
      ]
    },
    {
      "cell_type": "markdown",
      "metadata": {
        "id": "0Uf5X5APBiZ4"
      },
      "source": [
        "### Exercise 8 - Theoretical vs real probability density\n",
        "Generate 25 random numbers distributed according to the standard normal distribution. Plot a histogram with probability density function and the theoretical probability density.\n",
        "Do the same for 250 and 2500 numbers.\n",
        "Notice how the real probability density approaches the theoretical one as the sample size increases."
      ]
    },
    {
      "cell_type": "code",
      "execution_count": 12,
      "metadata": {
        "colab": {
          "base_uri": "https://localhost:8080/",
          "height": 265
        },
        "id": "SV_ilcGDlo9K",
        "outputId": "b99bab86-5dc7-45ef-f512-ec61a41d24f0"
      },
      "outputs": [
        {
          "data": {
            "image/png": "[encoded data removed]",
            "text/plain": [
              "<Figure size 640x480 with 1 Axes>"
            ]
          },
          "metadata": {},
          "output_type": "display_data"
        }
      ],
      "source": [
        "# Generate n random numbers, following a normal distribution\n",
        "m = 0    # Mean\n",
        "s = 1  # Standard deviation\n",
        "\n",
        "# Increase the value for n and see how the histogram changes!\n",
        "n = 2500\n",
        "observations = np.random.normal(loc=m, scale=s, size=n)\n",
        "\n",
        "# Plot histogram, without probability density\n",
        "obs_hist = sns.histplot(observations, kde=True)"
      ]
    },
    {
      "cell_type": "markdown",
      "metadata": {
        "id": "Tt1NcFuptleb"
      },
      "source": [
        "### Exercise 9\n",
        "\n",
        "Suppose that the distribution of net typing speed in\n",
        "words per minute (wpm) for experienced typists can be\n",
        "approximated by a normal curve with mean 60 wpm and\n",
        "standard deviation 15 wpm\n",
        "1. What is the probability that the net typing speed of a randomly selected typist\n",
        "is at most 60 wpm?\n",
        "2. What is the probability that the net speed of a randomly selected typist's\n",
        "net speed is between 45 and 90 wpm?\n",
        "3. Would you be surprised to find a typist\n",
        "whose net speed is higher than 105 wpm?\n",
        "4. Suppose special training will be given to the slowest 20% of typists. Which typing speeds would qualify for this training?"
      ]
    },
    {
      "cell_type": "code",
      "execution_count": 15,
      "metadata": {},
      "outputs": [
        {
          "data": {
            "text/plain": [
              "47.37568149640629"
            ]
          },
          "execution_count": 15,
          "metadata": {},
          "output_type": "execute_result"
        }
      ],
      "source": [
        "mu = 60\n",
        "sigma = 15\n",
        "\n",
        "# .1\n",
        "stats.norm.cdf(60, mu, scale=sigma)\n",
        "# .2\n",
        "stats.norm.cdf(90, mu, scale=sigma) - stats.norm.cdf(45, mu, scale=sigma)\n",
        "# .3\n",
        "stats.norm.sf(105, mu, scale=sigma)\n",
        "# .4\n",
        "stats.norm.isf(0.8, mu, scale=sigma)"
      ]
    },
    {
      "cell_type": "markdown",
      "metadata": {
        "id": "mY05tHGAnuCg"
      },
      "source": [
        "## Exercise 10\n",
        "\n",
        "Consider the two games of chance mentioned in the slides:\n",
        "\n",
        "- Bet on: at least one six when throwing a fair die 4 consecutive times.\n",
        "- Bet on: at least one \"double six\" when throwing two fair dice 24 times.\n",
        "\n",
        "Question: calculate the exact probability of winning each of these two games. Compare your answer with the long-term frequency of winning shown in the slides."
      ]
    },
    {
      "cell_type": "code",
      "execution_count": 18,
      "metadata": {
        "id": "vhqCoATNnuCg"
      },
      "outputs": [],
      "source": [
        "# Bet on: at least one six when throwing a fair die 4 consecutive times.\n",
        "\n",
        "# 1 - (kans dat je nooit 6 gooit)\n",
        "# 1..5    *   1..5    *   1..5    *   1..5\n",
        "# 5/6         5/6         5/6         5/6\n",
        "# 1 - (5/6*5/6*5/6*5/6) = 0,52\n",
        "\n",
        "\n",
        "# Bet on: at least one \"double six\" when throwing two fair dice 24 times.\n",
        "\n",
        "# 1 - (kans nooit dubbele 6 gooien)\n",
        "# 1 - (35/36) ** 24 = 0.49\n"
      ]
    },
    {
      "cell_type": "code",
      "execution_count": 19,
      "metadata": {},
      "outputs": [
        {
          "data": {
            "text/plain": [
              "0.5177469135802468"
            ]
          },
          "execution_count": 19,
          "metadata": {},
          "output_type": "execute_result"
        }
      ],
      "source": [
        "1 - (5/6*5/6*5/6*5/6)"
      ]
    },
    {
      "cell_type": "code",
      "execution_count": 21,
      "metadata": {},
      "outputs": [
        {
          "data": {
            "text/plain": [
              "0.4914038761309034"
            ]
          },
          "execution_count": 21,
          "metadata": {},
          "output_type": "execute_result"
        }
      ],
      "source": [
        "1 - (35/36) ** 24"
      ]
    },
    {
      "cell_type": "markdown",
      "metadata": {
        "id": "P9dVmtIhnuCg"
      },
      "source": [
        "## Exercise 11 - Expectation of $X-a$\n",
        "\n",
        "Consider the probability distribution of the random variable $X$ giving the sum of the eyes when throwing two dice.\n",
        "\n",
        "- This probability distribution is symmetric around 7. Verify (by using the definition of expectation) that the expectation of $X$ is also 7.\n",
        "\n",
        "- Suppose that you have to pay €8 to play a game where your earnings are the sum of the eyes when throwing two dice. Denote your profit (or loss) by $Y$. What is the relationship between $Y$ and $X$? Give the expectation of $Y$. What is the relationship with the expectation of $X$?\n",
        "\n",
        "- Can you see a general relationship between the expectation of $X − a$ and that of $X$, where $a$ is a real number?"
      ]
    },
    {
      "cell_type": "code",
      "execution_count": null,
      "metadata": {
        "id": "BCt8WOKnnuCg"
      },
      "outputs": [],
      "source": []
    },
    {
      "cell_type": "markdown",
      "metadata": {
        "id": "9rFAw3pxnuCh"
      },
      "source": [
        "## Exercise 12 - Variance of $X/a$\n",
        "\n",
        "Consider the probability distribution of the random variable $X$ giving the sum of the eyes when throwing two dice.\n",
        "\n",
        "- Calculate the variance of $X$.\n",
        "\n",
        "- Suppose the profit you make is only half of the sum of the eyes when throwing two dice. Denote your profit (or loss) by $Y$. What is the relationship between $Y$ and $X$? Give the variance of $Y$. What is the relationship with the variance of $X$?\n",
        "\n",
        "- Can you see a general relationship between the variance of $X/a$ and that of $X$, where $a$ is a real non-zero number?"
      ]
    },
    {
      "cell_type": "code",
      "execution_count": null,
      "metadata": {
        "id": "yVBvEUVDnuCh"
      },
      "outputs": [],
      "source": []
    },
    {
      "cell_type": "markdown",
      "metadata": {
        "id": "JhCIUOJknuCh"
      },
      "source": [
        "## Exercise 13 - Expectation and variance of $(X−\\mu)/\\sigma$)\n",
        "\n",
        "Using the information from the two previous exercises, determine the expectation and variance for a random variable $Z$ given by\n",
        "\n",
        "$Z = \\frac{X-\\mu_X}{\\sigma_X}$"
      ]
    },
    {
      "cell_type": "code",
      "execution_count": null,
      "metadata": {
        "id": "QVFNzIdvnuCh"
      },
      "outputs": [],
      "source": []
    }
  ],
  "metadata": {
    "colab": {
      "provenance": []
    },
    "kernelspec": {
      "display_name": "Python 3",
      "name": "python3"
    },
    "language_info": {
      "codemirror_mode": {
        "name": "ipython",
        "version": 3
      },
      "file_extension": ".py",
      "mimetype": "text/x-python",
      "name": "python",
      "nbconvert_exporter": "python",
      "pygments_lexer": "ipython3",
      "version": "3.11.5"
    },
    "orig_nbformat": 4
  },
  "nbformat": 4,
  "nbformat_minor": 0
}
