{
 "cells": [
  {
   "cell_type": "markdown",
   "metadata": {},
   "source": [
    "# Lab 3.02 - The Central Limit Theorem\n",
    "\n"
   ]
  },
  {
   "cell_type": "code",
   "execution_count": 1,
   "metadata": {},
   "outputs": [
    {
     "name": "stderr",
     "output_type": "stream",
     "text": [
      "C:\\Users\\32468\\AppData\\Local\\Temp\\ipykernel_101188\\48876594.py:5: DeprecationWarning: \n",
      "Pyarrow will become a required dependency of pandas in the next major release of pandas (pandas 3.0),\n",
      "(to allow more performant data types, such as the Arrow string type, and better interoperability with other libraries)\n",
      "but was not found to be installed on your system.\n",
      "If this would cause problems for you,\n",
      "please provide us feedback at https://github.com/pandas-dev/pandas/issues/54466\n",
      "        \n",
      "  import pandas as pd                                 # Data Frame\n"
     ]
    }
   ],
   "source": [
    "# Importing the necessary packages\n",
    "import numpy as np                                  # \"Scientific computing\"\n",
    "import scipy.stats as stats                         # Statistical tests\n",
    "\n",
    "import pandas as pd                                 # Data Frame\n",
    "from pandas.api.types import CategoricalDtype\n",
    "\n",
    "import matplotlib.pyplot as plt                     # Basic visualisation\n",
    "from statsmodels.graphics.mosaicplot import mosaic  # Mosaic diagram\n",
    "import seaborn as sns                               # Advanced data visualisation"
   ]
  },
  {
   "cell_type": "markdown",
   "metadata": {},
   "source": [
    "## Exercise 2.1 - Cholesterol \n",
    "\n",
    "A health survey between 1988 and 1994 indicated that the mean cholesterol value for women between the age of 20 and 29 was 183 mg/dl, with a standard deviation equal to 36. We now take a random sample of 81 women.\n",
    "\n",
    "1. Plot the probability distribution of the sample mean $\\overline{x}$.\n",
    "2. What is the probability of the sample mean being $\\overline{x} < 185$? (Answer ≈ 69,1%)\n",
    "3. What is the probability of $175 < \\overline{x} < 185$ (Answer ≈ 66,9%)\n",
    "4. What is the probability of $\\overline{x} > 190$ (Answer ≈ 4,0%)"
   ]
  },
  {
   "cell_type": "code",
   "execution_count": null,
   "metadata": {},
   "outputs": [],
   "source": [
    "# .1\n",
    "# CLT (centrale limiet stelling) => gemiddelde van de sample zal normaal verdeeld zijn met mu = 183 & sigma = 36 / sqrt(81)\n",
    "mu = 183\n",
    "sigma = 36\n",
    "n = 81\n",
    "s_sample = sigma / np.sqrt(n)\n",
    "\n",
    "x = np.linspace(mu - 4 * s_sample, mu + 4 * s_sample, num=201)\n",
    "y = stats.norm.pdf(x, mu, s_sample)\n",
    "plt.plot(x,y)\n"
   ]
  },
  {
   "cell_type": "code",
   "execution_count": 3,
   "metadata": {},
   "outputs": [
    {
     "data": {
      "text/plain": [
       "0.6914624612740131"
      ]
     },
     "execution_count": 3,
     "metadata": {},
     "output_type": "execute_result"
    }
   ],
   "source": [
    "# .2\n",
    "stats.norm.cdf(185, mu, s_sample)"
   ]
  },
  {
   "cell_type": "code",
   "execution_count": 6,
   "metadata": {},
   "outputs": [
    {
     "data": {
      "text/plain": [
       "0.6687123293258339"
      ]
     },
     "execution_count": 6,
     "metadata": {},
     "output_type": "execute_result"
    }
   ],
   "source": [
    "# .3\n",
    "stats.norm.cdf(185, mu, s_sample) - stats.norm.cdf(175, mu, s_sample)"
   ]
  },
  {
   "cell_type": "code",
   "execution_count": 7,
   "metadata": {},
   "outputs": [
    {
     "data": {
      "text/plain": [
       "0.040059156863817086"
      ]
     },
     "execution_count": 7,
     "metadata": {},
     "output_type": "execute_result"
    }
   ],
   "source": [
    "# .4\n",
    "stats.norm.sf(190, mu, s_sample)"
   ]
  },
  {
   "cell_type": "markdown",
   "metadata": {},
   "source": [
    "## Exercise 2.2\n",
    "\n",
    "A random sample of 64 is drawn from a population with unknown distribution. However, the expectation and standard deviation of the population are known: $\\mu = 20$ and $\\sigma = 16$.\n",
    "\n",
    "1. Plot the probability distribution of the sample mean.\n",
    "2. Calculate the z-score for $\\overline{x_1} = 15.5$  \n",
    "3. Calculate the z-score for $\\overline{x_2} = 23$ \n",
    "4. Determine the probability that 16 < $\\overline{x}$ < 22 (Answer ≈ 81.9%)"
   ]
  },
  {
   "cell_type": "code",
   "execution_count": null,
   "metadata": {},
   "outputs": [],
   "source": [
    "# .1\n",
    "# CLT => sample mean zal een normaalverdeling hebben van mu = 20 & sigma = 16 / sqrt(64)\n",
    "mu = 20\n",
    "sigma = 16\n",
    "n = 64\n",
    "s_sample = sigma / np.sqrt(n)\n",
    "\n",
    "x = np.linspace(mu - 4 * s_sample, mu + 4 * s_sample, num=201)\n",
    "y = stats.norm.pdf(x, mu, s_sample)\n",
    "plt.plot(x,y)\n"
   ]
  },
  {
   "cell_type": "code",
   "execution_count": 13,
   "metadata": {},
   "outputs": [
    {
     "data": {
      "text/plain": [
       "0.8185946141203637"
      ]
     },
     "execution_count": 13,
     "metadata": {},
     "output_type": "execute_result"
    }
   ],
   "source": [
    "# .2\n",
    "z1 = (15.5 - mu) / s_sample\n",
    "\n",
    "# .3\n",
    "z2 = (23 - mu) / s_sample\n",
    "\n",
    "# .4\n",
    "stats.norm.cdf(22, mu, s_sample) - stats.norm.cdf(16, mu, s_sample)"
   ]
  },
  {
   "cell_type": "markdown",
   "metadata": {},
   "source": [
    "## Exercise 2.3\n",
    "\n",
    "When students write in their bachelor thesis proposal that they want to conduct a survey, we usually try to dissuade them from doing so. With what you have learned about sampling and the central limit theorem, can you think of some reasons why we do this?"
   ]
  },
  {
   "cell_type": "markdown",
   "metadata": {},
   "source": []
  }
 ],
 "metadata": {
  "kernelspec": {
   "display_name": "Python 3",
   "language": "python",
   "name": "python3"
  },
  "language_info": {
   "codemirror_mode": {
    "name": "ipython",
    "version": 3
   },
   "file_extension": ".py",
   "mimetype": "text/x-python",
   "name": "python",
   "nbconvert_exporter": "python",
   "pygments_lexer": "ipython3",
   "version": "3.11.5"
  }
 },
 "nbformat": 4,
 "nbformat_minor": 2
}
