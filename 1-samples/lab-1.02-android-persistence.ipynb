{
 "cells": [
  {
   "cell_type": "markdown",
   "metadata": {},
   "source": [
    "# Lab 1.02 - Android Persistence\n",
    "\n",
    "Import all necessary Python libraries and create a variable `android_persistence` to load the dataset [android_persistence_cpu.csv](https://github.com/HoGentTIN/dsai-en-labs/blob/main/data/android_persistence_cpu.csv). See the [code book](https://github.com/HoGentTIN/dsai-en-labs/blob/main/data/android_persistence_cpu.md) for more info on the contents. Note this file is not stored as a regular CSV file! You may need to tweak the parameters of the import function to load the file correctly."
   ]
  },
  {
   "cell_type": "code",
   "execution_count": 6,
   "metadata": {},
   "outputs": [
    {
     "name": "stderr",
     "output_type": "stream",
     "text": [
      "C:\\Users\\32468\\AppData\\Local\\Temp\\ipykernel_4576\\48876594.py:5: DeprecationWarning: \n",
      "Pyarrow will become a required dependency of pandas in the next major release of pandas (pandas 3.0),\n",
      "(to allow more performant data types, such as the Arrow string type, and better interoperability with other libraries)\n",
      "but was not found to be installed on your system.\n",
      "If this would cause problems for you,\n",
      "please provide us feedback at https://github.com/pandas-dev/pandas/issues/54466\n",
      "        \n",
      "  import pandas as pd                                 # Data Frame\n"
     ]
    }
   ],
   "source": [
    "# Importing the necessary packages\n",
    "import numpy as np                                  # \"Scientific computing\"\n",
    "import scipy.stats as stats                         # Statistical tests\n",
    "\n",
    "import pandas as pd                                 # Data Frame\n",
    "from pandas.api.types import CategoricalDtype\n",
    "\n",
    "import matplotlib.pyplot as plt                     # Basic visualisation\n",
    "from statsmodels.graphics.mosaicplot import mosaic  # Mosaic diagram\n",
    "import seaborn as sns                               # Advanced data visualisation"
   ]
  },
  {
   "cell_type": "markdown",
   "metadata": {},
   "source": [
    "Explore the dataset:\n",
    "\n",
    "- How many variables and observations are present in the dataset?\n",
    "- What is the level of measurement of each variable?\n",
    "- Perform the conversion of the qualitative variables to the appropriate type (and specify the order of ordinal variables).\n",
    "- List the data types in the dataset."
   ]
  },
  {
   "cell_type": "code",
   "execution_count": 13,
   "metadata": {},
   "outputs": [
    {
     "data": {
      "text/html": [
       "<div>\n",
       "<style scoped>\n",
       "    .dataframe tbody tr th:only-of-type {\n",
       "        vertical-align: middle;\n",
       "    }\n",
       "\n",
       "    .dataframe tbody tr th {\n",
       "        vertical-align: top;\n",
       "    }\n",
       "\n",
       "    .dataframe thead th {\n",
       "        text-align: right;\n",
       "    }\n",
       "</style>\n",
       "<table border=\"1\" class=\"dataframe\">\n",
       "  <thead>\n",
       "    <tr style=\"text-align: right;\">\n",
       "      <th></th>\n",
       "      <th>Time</th>\n",
       "      <th>PersistenceType</th>\n",
       "      <th>DataSize</th>\n",
       "    </tr>\n",
       "  </thead>\n",
       "  <tbody>\n",
       "    <tr>\n",
       "      <th>0</th>\n",
       "      <td>1.81</td>\n",
       "      <td>Sharedpreferences</td>\n",
       "      <td>Small</td>\n",
       "    </tr>\n",
       "    <tr>\n",
       "      <th>1</th>\n",
       "      <td>1.35</td>\n",
       "      <td>Sharedpreferences</td>\n",
       "      <td>Small</td>\n",
       "    </tr>\n",
       "    <tr>\n",
       "      <th>2</th>\n",
       "      <td>1.84</td>\n",
       "      <td>Sharedpreferences</td>\n",
       "      <td>Small</td>\n",
       "    </tr>\n",
       "    <tr>\n",
       "      <th>3</th>\n",
       "      <td>1.54</td>\n",
       "      <td>Sharedpreferences</td>\n",
       "      <td>Small</td>\n",
       "    </tr>\n",
       "    <tr>\n",
       "      <th>4</th>\n",
       "      <td>1.81</td>\n",
       "      <td>Sharedpreferences</td>\n",
       "      <td>Small</td>\n",
       "    </tr>\n",
       "  </tbody>\n",
       "</table>\n",
       "</div>"
      ],
      "text/plain": [
       "   Time    PersistenceType DataSize\n",
       "0  1.81  Sharedpreferences    Small\n",
       "1  1.35  Sharedpreferences    Small\n",
       "2  1.84  Sharedpreferences    Small\n",
       "3  1.54  Sharedpreferences    Small\n",
       "4  1.81  Sharedpreferences    Small"
      ]
     },
     "execution_count": 13,
     "metadata": {},
     "output_type": "execute_result"
    }
   ],
   "source": [
    "android = pd.read_csv(\"https://raw.githubusercontent.com/HoGentTIN/dsai-labs/main/data/android_persistence_cpu.csv\", delimiter = \";\")\n",
    "android.head()"
   ]
  },
  {
   "cell_type": "code",
   "execution_count": 23,
   "metadata": {},
   "outputs": [
    {
     "name": "stdout",
     "output_type": "stream",
     "text": [
      "Dataset informatie:\n",
      "<class 'pandas.core.frame.DataFrame'>\n",
      "RangeIndex: 300 entries, 0 to 299\n",
      "Data columns (total 3 columns):\n",
      " #   Column           Non-Null Count  Dtype  \n",
      "---  ------           --------------  -----  \n",
      " 0   Time             300 non-null    float64\n",
      " 1   PersistenceType  300 non-null    object \n",
      " 2   DataSize         300 non-null    object \n",
      "dtypes: float64(1), object(2)\n",
      "memory usage: 7.2+ KB\n",
      "**************************************************\n",
      "\n",
      "Aantal variabelen: 3\n",
      "Aantal observaties: 300\n"
     ]
    }
   ],
   "source": [
    "print(f\"Dataset informatie:\")\n",
    "android.info()\n",
    "print(\"*\"*50)\n",
    "# How many variables and observations are present in the dataset?\n",
    "num_variables = android.shape[1]\n",
    "num_observations = android.shape[0]\n",
    "print(f\"\\nAantal variabelen: {num_variables}\")\n",
    "print(f\"Aantal observaties: {num_observations}\")"
   ]
  },
  {
   "cell_type": "code",
   "execution_count": 26,
   "metadata": {},
   "outputs": [
    {
     "name": "stdout",
     "output_type": "stream",
     "text": [
      "\n",
      "Meetniveaus:\n",
      "Time: Ratio\n",
      "PersistenceType: Nominaal\n",
      "DataSize: Ordinaal\n"
     ]
    }
   ],
   "source": [
    "# What is the level of measurement of each variable?\n",
    "levels_of_measurement = {\n",
    "  'Time': 'Ratio',\n",
    "  'PersistenceType': 'Nominaal',\n",
    "  'DataSize' : 'Ordinaal'\n",
    "  }\n",
    "\n",
    "print(\"\\nMeetniveaus:\")\n",
    "for variable, level in levels_of_measurement.items():\n",
    "    print(f\"{variable}: {level}\")"
   ]
  },
  {
   "cell_type": "code",
   "execution_count": 30,
   "metadata": {},
   "outputs": [
    {
     "name": "stdout",
     "output_type": "stream",
     "text": [
      "Time                float64\n",
      "PersistenceType    category\n",
      "DataSize           category\n",
      "dtype: object\n"
     ]
    }
   ],
   "source": [
    "# Perform the conversion of the qualitative variables to the appropriate type (and specify the order of ordinal variables).\n",
    "android['PersistenceType'] = android['PersistenceType'].astype(\"category\")\n",
    "android['DataSize'] = pd.Categorical(android['DataSize'], categories=['Small', 'Medium', 'Large'], ordered=True)\n",
    "\n",
    "# List the data types in the dataset.\n",
    "print(android.dtypes)"
   ]
  },
  {
   "cell_type": "markdown",
   "metadata": {},
   "source": [
    "Describe each variable."
   ]
  },
  {
   "cell_type": "code",
   "execution_count": 45,
   "metadata": {},
   "outputs": [
    {
     "name": "stdout",
     "output_type": "stream",
     "text": [
      "count    300.000000\n",
      "mean       6.230833\n",
      "std        4.229599\n",
      "min        1.090000\n",
      "25%        1.790000\n",
      "50%        6.185000\n",
      "75%       10.662500\n",
      "max       13.560000\n",
      "Name: Time, dtype: float64\n",
      "**************************************************\n",
      "count       300\n",
      "unique        3\n",
      "top       Small\n",
      "freq        120\n",
      "Name: DataSize, dtype: object\n",
      "**************************************************\n",
      "count          300\n",
      "unique           4\n",
      "top       GreenDAO\n",
      "freq            90\n",
      "Name: PersistenceType, dtype: object\n"
     ]
    }
   ],
   "source": [
    "print(android[\"Time\"].describe())\n",
    "print(\"*\"*50)\n",
    "print(android[\"DataSize\"].describe())\n",
    "print(\"*\"*50)\n",
    "print(android[\"PersistenceType\"].describe())"
   ]
  },
  {
   "cell_type": "markdown",
   "metadata": {},
   "source": [
    "What unique values are there for the variables `PersistenceType` and `DataSize`? How often does each value occur?"
   ]
  },
  {
   "cell_type": "code",
   "execution_count": 15,
   "metadata": {},
   "outputs": [
    {
     "name": "stdout",
     "output_type": "stream",
     "text": [
      "Unique values for PersistenceType: ['Sharedpreferences' 'GreenDAO' 'SQLLite' 'Realm']\n",
      "Frequency of each PersistenceType value:\n",
      " PersistenceType\n",
      "GreenDAO             90\n",
      "SQLLite              90\n",
      "Realm                90\n",
      "Sharedpreferences    30\n",
      "Name: count, dtype: int64\n",
      "Unique values for DataSize: ['Small' 'Medium' 'Large']\n",
      "Frequency of each DataSize value:\n",
      " DataSize\n",
      "Small     120\n",
      "Medium     90\n",
      "Large      90\n",
      "Name: count, dtype: int64\n"
     ]
    }
   ],
   "source": [
    "# Find unique values\n",
    "unique_persistence_types = android[\"PersistenceType\"].unique()\n",
    "unique_data_sizes = android[\"DataSize\"].unique()\n",
    "\n",
    "# Find frequency of each unique value\n",
    "persistence_type_counts = android[\"PersistenceType\"].value_counts()\n",
    "data_size_counts = android[\"DataSize\"].value_counts()\n",
    "\n",
    "# Display results\n",
    "print(\"Unique values for PersistenceType:\", unique_persistence_types)\n",
    "print(\"Frequency of each PersistenceType value:\\n\", persistence_type_counts)\n",
    "print(\"Unique values for DataSize:\", unique_data_sizes)\n",
    "print(\"Frequency of each DataSize value:\\n\", data_size_counts)\n",
    "\n"
   ]
  },
  {
   "cell_type": "markdown",
   "metadata": {},
   "source": [
    "In this dataset, it is especially interesting to know how often each unique combination of `PersistenceType` and `DataSize` occurs. Figure out how to use the Pandas function `crosstab()` to create a so-called contingency table for these variables. By the way, this concept will return in Module 4 (examining the relationship between 2 qualitative variables)."
   ]
  },
  {
   "cell_type": "code",
   "execution_count": 17,
   "metadata": {},
   "outputs": [
    {
     "name": "stdout",
     "output_type": "stream",
     "text": [
      "DataSize           Large  Medium  Small\n",
      "PersistenceType                        \n",
      "GreenDAO              30      30     30\n",
      "Realm                 30      30     30\n",
      "SQLLite               30      30     30\n",
      "Sharedpreferences      0       0     30\n"
     ]
    }
   ],
   "source": [
    "contingency_table = pd.crosstab(android[\"PersistenceType\"], android[\"DataSize\"])\n",
    "# Display the result\n",
    "print(contingency_table)"
   ]
  }
 ],
 "metadata": {
  "kernelspec": {
   "display_name": "Python 3",
   "language": "python",
   "name": "python3"
  },
  "language_info": {
   "codemirror_mode": {
    "name": "ipython",
    "version": 3
   },
   "file_extension": ".py",
   "mimetype": "text/x-python",
   "name": "python",
   "nbconvert_exporter": "python",
   "pygments_lexer": "ipython3",
   "version": "3.11.5"
  },
  "orig_nbformat": 4
 },
 "nbformat": 4,
 "nbformat_minor": 2
}
