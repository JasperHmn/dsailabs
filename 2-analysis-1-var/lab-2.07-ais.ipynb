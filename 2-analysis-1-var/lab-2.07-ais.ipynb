{
 "cells": [
  {
   "cell_type": "markdown",
   "metadata": {},
   "source": [
    "# Lab 2.07 - Univariate Analysis\n",
    "\n",
    "## Exercise 7 - Australian Athletes (ais)\n",
    "\n",
    "Import all necessary Python libraries and load the AIS dataset from lab exercise 1.01. Also include the code for setting the index and conversion to categorical variables!"
   ]
  },
  {
   "cell_type": "code",
   "execution_count": null,
   "metadata": {},
   "outputs": [],
   "source": [
    "# Importing the necessary packages\n",
    "import numpy as np                                  # \"Scientific computing\"\n",
    "import scipy.stats as stats                         # Statistical tests\n",
    "\n",
    "import pandas as pd                                 # Data Frame\n",
    "from pandas.api.types import CategoricalDtype\n",
    "\n",
    "import matplotlib.pyplot as plt                     # Basic visualisation\n",
    "from statsmodels.graphics.mosaicplot import mosaic  # Mosaic diagram\n",
    "import seaborn as sns                               # Advanced data visualisation"
   ]
  },
  {
   "cell_type": "code",
   "execution_count": 26,
   "metadata": {},
   "outputs": [
    {
     "data": {
      "text/html": [
       "<div>\n",
       "<style scoped>\n",
       "    .dataframe tbody tr th:only-of-type {\n",
       "        vertical-align: middle;\n",
       "    }\n",
       "\n",
       "    .dataframe tbody tr th {\n",
       "        vertical-align: top;\n",
       "    }\n",
       "\n",
       "    .dataframe thead th {\n",
       "        text-align: right;\n",
       "    }\n",
       "</style>\n",
       "<table border=\"1\" class=\"dataframe\">\n",
       "  <thead>\n",
       "    <tr style=\"text-align: right;\">\n",
       "      <th></th>\n",
       "      <th>id</th>\n",
       "      <th>rcc</th>\n",
       "      <th>wcc</th>\n",
       "      <th>hc</th>\n",
       "      <th>hg</th>\n",
       "      <th>ferr</th>\n",
       "      <th>bmi</th>\n",
       "      <th>ssf</th>\n",
       "      <th>pcBfat</th>\n",
       "      <th>lbm</th>\n",
       "      <th>ht</th>\n",
       "      <th>wt</th>\n",
       "      <th>sex</th>\n",
       "      <th>sport</th>\n",
       "    </tr>\n",
       "  </thead>\n",
       "  <tbody>\n",
       "    <tr>\n",
       "      <th>0</th>\n",
       "      <td>1</td>\n",
       "      <td>3.96</td>\n",
       "      <td>7.5</td>\n",
       "      <td>37.5</td>\n",
       "      <td>12.3</td>\n",
       "      <td>60</td>\n",
       "      <td>20.56</td>\n",
       "      <td>109.1</td>\n",
       "      <td>19.75</td>\n",
       "      <td>63.32</td>\n",
       "      <td>195.9</td>\n",
       "      <td>78.9</td>\n",
       "      <td>f</td>\n",
       "      <td>B_Ball</td>\n",
       "    </tr>\n",
       "    <tr>\n",
       "      <th>1</th>\n",
       "      <td>2</td>\n",
       "      <td>4.41</td>\n",
       "      <td>8.3</td>\n",
       "      <td>38.2</td>\n",
       "      <td>12.7</td>\n",
       "      <td>68</td>\n",
       "      <td>20.67</td>\n",
       "      <td>102.8</td>\n",
       "      <td>21.30</td>\n",
       "      <td>58.55</td>\n",
       "      <td>189.7</td>\n",
       "      <td>74.4</td>\n",
       "      <td>f</td>\n",
       "      <td>B_Ball</td>\n",
       "    </tr>\n",
       "    <tr>\n",
       "      <th>2</th>\n",
       "      <td>3</td>\n",
       "      <td>4.14</td>\n",
       "      <td>5.0</td>\n",
       "      <td>36.4</td>\n",
       "      <td>11.6</td>\n",
       "      <td>21</td>\n",
       "      <td>21.86</td>\n",
       "      <td>104.6</td>\n",
       "      <td>19.88</td>\n",
       "      <td>55.36</td>\n",
       "      <td>177.8</td>\n",
       "      <td>69.1</td>\n",
       "      <td>f</td>\n",
       "      <td>B_Ball</td>\n",
       "    </tr>\n",
       "    <tr>\n",
       "      <th>3</th>\n",
       "      <td>4</td>\n",
       "      <td>4.11</td>\n",
       "      <td>5.3</td>\n",
       "      <td>37.3</td>\n",
       "      <td>12.6</td>\n",
       "      <td>69</td>\n",
       "      <td>21.88</td>\n",
       "      <td>126.4</td>\n",
       "      <td>23.66</td>\n",
       "      <td>57.18</td>\n",
       "      <td>185.0</td>\n",
       "      <td>74.9</td>\n",
       "      <td>f</td>\n",
       "      <td>B_Ball</td>\n",
       "    </tr>\n",
       "    <tr>\n",
       "      <th>4</th>\n",
       "      <td>5</td>\n",
       "      <td>4.45</td>\n",
       "      <td>6.8</td>\n",
       "      <td>41.5</td>\n",
       "      <td>14.0</td>\n",
       "      <td>29</td>\n",
       "      <td>18.96</td>\n",
       "      <td>80.3</td>\n",
       "      <td>17.64</td>\n",
       "      <td>53.20</td>\n",
       "      <td>184.6</td>\n",
       "      <td>64.6</td>\n",
       "      <td>f</td>\n",
       "      <td>B_Ball</td>\n",
       "    </tr>\n",
       "  </tbody>\n",
       "</table>\n",
       "</div>"
      ],
      "text/plain": [
       "   id   rcc  wcc    hc    hg  ferr    bmi    ssf  pcBfat    lbm     ht    wt  \\\n",
       "0   1  3.96  7.5  37.5  12.3    60  20.56  109.1   19.75  63.32  195.9  78.9   \n",
       "1   2  4.41  8.3  38.2  12.7    68  20.67  102.8   21.30  58.55  189.7  74.4   \n",
       "2   3  4.14  5.0  36.4  11.6    21  21.86  104.6   19.88  55.36  177.8  69.1   \n",
       "3   4  4.11  5.3  37.3  12.6    69  21.88  126.4   23.66  57.18  185.0  74.9   \n",
       "4   5  4.45  6.8  41.5  14.0    29  18.96   80.3   17.64  53.20  184.6  64.6   \n",
       "\n",
       "  sex   sport  \n",
       "0   f  B_Ball  \n",
       "1   f  B_Ball  \n",
       "2   f  B_Ball  \n",
       "3   f  B_Ball  \n",
       "4   f  B_Ball  "
      ]
     },
     "execution_count": 26,
     "metadata": {},
     "output_type": "execute_result"
    }
   ],
   "source": [
    "# Importing the AIS dataset. (Rajagopalan, 2021, p. 106)\n",
    "ais = pd.read_csv('https://raw.githubusercontent.com/HoGentTIN/dsai-labs/main/data/ais.csv')\n",
    "# Show the first few records of the Data Frame\n",
    "ais.head()"
   ]
  },
  {
   "cell_type": "code",
   "execution_count": 27,
   "metadata": {},
   "outputs": [],
   "source": [
    "ais = ais.set_index(['id'])\n",
    "ais.sex = ais.sex.astype('category')\n",
    "ais.sport = ais.sport.astype('category')"
   ]
  },
  {
   "cell_type": "code",
   "execution_count": 28,
   "metadata": {},
   "outputs": [
    {
     "data": {
      "text/html": [
       "<div>\n",
       "<style scoped>\n",
       "    .dataframe tbody tr th:only-of-type {\n",
       "        vertical-align: middle;\n",
       "    }\n",
       "\n",
       "    .dataframe tbody tr th {\n",
       "        vertical-align: top;\n",
       "    }\n",
       "\n",
       "    .dataframe thead th {\n",
       "        text-align: right;\n",
       "    }\n",
       "</style>\n",
       "<table border=\"1\" class=\"dataframe\">\n",
       "  <thead>\n",
       "    <tr style=\"text-align: right;\">\n",
       "      <th></th>\n",
       "      <th>rcc</th>\n",
       "      <th>wcc</th>\n",
       "      <th>hc</th>\n",
       "      <th>hg</th>\n",
       "      <th>ferr</th>\n",
       "      <th>bmi</th>\n",
       "      <th>ssf</th>\n",
       "      <th>pcBfat</th>\n",
       "      <th>lbm</th>\n",
       "      <th>ht</th>\n",
       "      <th>wt</th>\n",
       "      <th>sex</th>\n",
       "      <th>sport</th>\n",
       "    </tr>\n",
       "    <tr>\n",
       "      <th>id</th>\n",
       "      <th></th>\n",
       "      <th></th>\n",
       "      <th></th>\n",
       "      <th></th>\n",
       "      <th></th>\n",
       "      <th></th>\n",
       "      <th></th>\n",
       "      <th></th>\n",
       "      <th></th>\n",
       "      <th></th>\n",
       "      <th></th>\n",
       "      <th></th>\n",
       "      <th></th>\n",
       "    </tr>\n",
       "  </thead>\n",
       "  <tbody>\n",
       "    <tr>\n",
       "      <th>1</th>\n",
       "      <td>3.96</td>\n",
       "      <td>7.5</td>\n",
       "      <td>37.5</td>\n",
       "      <td>12.3</td>\n",
       "      <td>60</td>\n",
       "      <td>20.56</td>\n",
       "      <td>109.1</td>\n",
       "      <td>19.75</td>\n",
       "      <td>63.32</td>\n",
       "      <td>195.9</td>\n",
       "      <td>78.9</td>\n",
       "      <td>f</td>\n",
       "      <td>B_Ball</td>\n",
       "    </tr>\n",
       "    <tr>\n",
       "      <th>2</th>\n",
       "      <td>4.41</td>\n",
       "      <td>8.3</td>\n",
       "      <td>38.2</td>\n",
       "      <td>12.7</td>\n",
       "      <td>68</td>\n",
       "      <td>20.67</td>\n",
       "      <td>102.8</td>\n",
       "      <td>21.30</td>\n",
       "      <td>58.55</td>\n",
       "      <td>189.7</td>\n",
       "      <td>74.4</td>\n",
       "      <td>f</td>\n",
       "      <td>B_Ball</td>\n",
       "    </tr>\n",
       "    <tr>\n",
       "      <th>3</th>\n",
       "      <td>4.14</td>\n",
       "      <td>5.0</td>\n",
       "      <td>36.4</td>\n",
       "      <td>11.6</td>\n",
       "      <td>21</td>\n",
       "      <td>21.86</td>\n",
       "      <td>104.6</td>\n",
       "      <td>19.88</td>\n",
       "      <td>55.36</td>\n",
       "      <td>177.8</td>\n",
       "      <td>69.1</td>\n",
       "      <td>f</td>\n",
       "      <td>B_Ball</td>\n",
       "    </tr>\n",
       "    <tr>\n",
       "      <th>4</th>\n",
       "      <td>4.11</td>\n",
       "      <td>5.3</td>\n",
       "      <td>37.3</td>\n",
       "      <td>12.6</td>\n",
       "      <td>69</td>\n",
       "      <td>21.88</td>\n",
       "      <td>126.4</td>\n",
       "      <td>23.66</td>\n",
       "      <td>57.18</td>\n",
       "      <td>185.0</td>\n",
       "      <td>74.9</td>\n",
       "      <td>f</td>\n",
       "      <td>B_Ball</td>\n",
       "    </tr>\n",
       "    <tr>\n",
       "      <th>5</th>\n",
       "      <td>4.45</td>\n",
       "      <td>6.8</td>\n",
       "      <td>41.5</td>\n",
       "      <td>14.0</td>\n",
       "      <td>29</td>\n",
       "      <td>18.96</td>\n",
       "      <td>80.3</td>\n",
       "      <td>17.64</td>\n",
       "      <td>53.20</td>\n",
       "      <td>184.6</td>\n",
       "      <td>64.6</td>\n",
       "      <td>f</td>\n",
       "      <td>B_Ball</td>\n",
       "    </tr>\n",
       "  </tbody>\n",
       "</table>\n",
       "</div>"
      ],
      "text/plain": [
       "     rcc  wcc    hc    hg  ferr    bmi    ssf  pcBfat    lbm     ht    wt sex  \\\n",
       "id                                                                              \n",
       "1   3.96  7.5  37.5  12.3    60  20.56  109.1   19.75  63.32  195.9  78.9   f   \n",
       "2   4.41  8.3  38.2  12.7    68  20.67  102.8   21.30  58.55  189.7  74.4   f   \n",
       "3   4.14  5.0  36.4  11.6    21  21.86  104.6   19.88  55.36  177.8  69.1   f   \n",
       "4   4.11  5.3  37.3  12.6    69  21.88  126.4   23.66  57.18  185.0  74.9   f   \n",
       "5   4.45  6.8  41.5  14.0    29  18.96   80.3   17.64  53.20  184.6  64.6   f   \n",
       "\n",
       "     sport  \n",
       "id          \n",
       "1   B_Ball  \n",
       "2   B_Ball  \n",
       "3   B_Ball  \n",
       "4   B_Ball  \n",
       "5   B_Ball  "
      ]
     },
     "execution_count": 28,
     "metadata": {},
     "output_type": "execute_result"
    }
   ],
   "source": [
    "ais.head()"
   ]
  },
  {
   "cell_type": "markdown",
   "metadata": {},
   "source": [
    "Use an appropriate chart type to visualise the following variables. Are several chart types suitable? Make one of each! Note how some graphs nevertheless give a better insight into the data than other types of graphs.\n",
    "\n",
    "- `sex`\n",
    "- `sport`\n",
    "- `ht` (show this also divided by `sex` and by `sport`.)"
   ]
  },
  {
   "cell_type": "code",
   "execution_count": null,
   "metadata": {},
   "outputs": [],
   "source": [
    "# sex plot\n",
    "sns.countplot(data = ais, y='sex')"
   ]
  },
  {
   "cell_type": "code",
   "execution_count": null,
   "metadata": {},
   "outputs": [],
   "source": [
    "# sport plot\n",
    "sns.countplot(data = ais, y='sport')"
   ]
  },
  {
   "cell_type": "code",
   "execution_count": null,
   "metadata": {},
   "outputs": [],
   "source": [
    "sns.catplot(data = ais, kind='count', col='sex', y='sport')"
   ]
  },
  {
   "cell_type": "code",
   "execution_count": null,
   "metadata": {},
   "outputs": [],
   "source": [
    "sns.kdeplot(data=ais, x='ht', hue='sex')"
   ]
  },
  {
   "cell_type": "code",
   "execution_count": null,
   "metadata": {},
   "outputs": [],
   "source": [
    "sns.boxplot(data=ais, x='ht', y='sex')"
   ]
  },
  {
   "cell_type": "code",
   "execution_count": null,
   "metadata": {},
   "outputs": [],
   "source": [
    "sns.boxplot(data=ais, x='ht', y='sport')"
   ]
  },
  {
   "cell_type": "code",
   "execution_count": 14,
   "metadata": {},
   "outputs": [
    {
     "data": {
      "text/plain": [
       "<Axes: xlabel='ht', ylabel='Density'>"
      ]
     },
     "execution_count": 14,
     "metadata": {},
     "output_type": "execute_result"
    },
    {
     "data": {
      "image/png": "[encoded data removed]",
      "text/plain": [
       "<Figure size 640x480 with 1 Axes>"
      ]
     },
     "metadata": {},
     "output_type": "display_data"
    }
   ],
   "source": [
    "sns.kdeplot(data=ais, x='ht', hue='sport')"
   ]
  },
  {
   "cell_type": "markdown",
   "metadata": {},
   "source": [
    "Select the following subsets from the dataset and calculate for each the appropriate measures of central tendency (and, when possible, dispersion) of the variables `ht` and `sex`:\n",
    "\n",
    "1. the rowers\n",
    "2. the rowers, netball and tennis players together\n",
    "3. the female basketball players and rowers together"
   ]
  },
  {
   "cell_type": "code",
   "execution_count": 17,
   "metadata": {},
   "outputs": [],
   "source": [
    "# select subsets\n",
    "row = ais[ais.sport == 'Row']\n",
    "row_net_tennis = ais[(ais.sport == 'Row') | (ais.sport == 'Netball') | (ais.sport == 'Tennis')]\n",
    "f_basket_row = ais[(ais.sex == 'f') & ((ais.sport == 'B_Ball') | (ais.sport == 'Row'))]"
   ]
  },
  {
   "cell_type": "code",
   "execution_count": 18,
   "metadata": {},
   "outputs": [
    {
     "data": {
      "text/plain": [
       "0    f\n",
       "Name: sex, dtype: category\n",
       "Categories (2, object): ['f', 'm']"
      ]
     },
     "execution_count": 18,
     "metadata": {},
     "output_type": "execute_result"
    }
   ],
   "source": [
    "row.sex.mode()"
   ]
  },
  {
   "cell_type": "code",
   "execution_count": null,
   "metadata": {},
   "outputs": [],
   "source": [
    "print(f'Frequencies of row.sex:\\n{row.sex.value_counts()}')\n",
    "print(f'Frequencies of row_net_tennis.sex:\\n{row_net_tennis.sex.value_counts()}')\n",
    "print(f'Frequencies of f_basket_row.sex:\\n{f_basket_row.sex.value_counts()}')"
   ]
  },
  {
   "cell_type": "code",
   "execution_count": 24,
   "metadata": {},
   "outputs": [
    {
     "name": "stdout",
     "output_type": "stream",
     "text": [
      "===Measures for central tendency and dispersion===\n",
      "---Rowers:---\n",
      "count     37.000000\n",
      "mean     182.375676\n",
      "std        7.798376\n",
      "min      156.000000\n",
      "25%      179.300000\n",
      "50%      181.800000\n",
      "75%      186.300000\n",
      "max      198.000000\n",
      "Name: ht, dtype: float64\n",
      "---Rowers: + Netball + Tennis:---\n",
      "count     71.000000\n",
      "mean     179.066197\n",
      "std        7.936371\n",
      "min      156.000000\n",
      "25%      174.250000\n",
      "50%      179.500000\n",
      "75%      183.400000\n",
      "max      198.000000\n",
      "Name: ht, dtype: float64\n",
      "---Female Basket + Rowers:---\n",
      "count     35.000000\n",
      "mean     180.125714\n",
      "std        7.144078\n",
      "min      156.000000\n",
      "25%      177.400000\n",
      "50%      179.700000\n",
      "75%      184.650000\n",
      "max      195.900000\n",
      "Name: ht, dtype: float64\n",
      "---Median Female Basket + Rowers:---\n",
      "179.7\n",
      "---Median Female Basket + Rowers:---\n",
      "179.7\n",
      "---IQR Female Basket + Rowers:---\n",
      "7.249999999999972\n"
     ]
    }
   ],
   "source": [
    "# Measures for central tendency and dispersion for 'ht'\n",
    "print(f'===Measures for central tendency and dispersion===')\n",
    "print(f'---Rowers:---\\n{row.ht.describe()}')\n",
    "print(f'---Rowers: + Netball + Tennis:---\\n{row_net_tennis.ht.describe()}')\n",
    "print(f'---Female Basket + Rowers:---\\n{f_basket_row.ht.describe()}')\n",
    "\n",
    "print(f'---Median Female Basket + Rowers:---\\n{f_basket_row.ht.median()}')\n",
    "print(f'---Median Female Basket + Rowers:---\\n{f_basket_row.ht.describe()[\"50%\"]}')\n",
    "print(f'---IQR Female Basket + Rowers:---\\n{f_basket_row.ht.quantile(0.75) - f_basket_row.ht.quantile(0.25)}')\n"
   ]
  },
  {
   "cell_type": "markdown",
   "metadata": {},
   "source": [
    "## Check your answers\n",
    "\n",
    "As a check, here are the results of the last question. First the frequencies and mode of the variable `sex`:\n",
    "\n",
    "|           | Selection 1 | Selection 2 | Selection 3 |\n",
    "| :-------- | :---------- | :---------- | :---------- |\n",
    "| **f**     | 22          | 52          | 35          |\n",
    "| **m**     | 15          | 19          | 0           |\n",
    "| **mode**  | f           | f           | f           |\n",
    "\n",
    "Then the relevant measures for central tendency and dispersion for `ht` (max. 3 decimal places):\n",
    "\n",
    "| Statistic  | Selection 1 | Selection 2 | Selection 3 |\n",
    "| :--------- | :---------- | :---------- | :---------- |\n",
    "| mean       | 182.376     | 179.066     | 180.126     |\n",
    "| stdev      | 7.798       | 7.936       | 7.144       |\n",
    "| min        | 156         | 156         | 156         |\n",
    "| Q1         | 179.3       | 174.25      | 177.4       |\n",
    "| median     | 181.8       | 179.5       | 179.7       |\n",
    "| Q3         | 186.3       | 183.4       | 184.65      |\n",
    "| max        | 198         | 198         | 195.9       |\n",
    "| IQR        | 7           | 9.15        | 7.250       |"
   ]
  }
 ],
 "metadata": {
  "kernelspec": {
   "display_name": "Python 3",
   "language": "python",
   "name": "python3"
  },
  "language_info": {
   "codemirror_mode": {
    "name": "ipython",
    "version": 3
   },
   "file_extension": ".py",
   "mimetype": "text/x-python",
   "name": "python",
   "nbconvert_exporter": "python",
   "pygments_lexer": "ipython3",
   "version": "3.11.5"
  },
  "orig_nbformat": 4
 },
 "nbformat": 4,
 "nbformat_minor": 2
}
